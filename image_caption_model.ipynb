{
  "nbformat": 4,
  "nbformat_minor": 0,
  "metadata": {
    "colab": {
      "name": "image_caption_model.ipynb",
      "provenance": [],
      "authorship_tag": "ABX9TyN3RvAbU83XaaYhnTYJOCBU",
      "include_colab_link": true
    },
    "kernelspec": {
      "name": "python3",
      "display_name": "Python 3"
    },
    "language_info": {
      "name": "python"
    }
  },
  "cells": [
    {
      "cell_type": "markdown",
      "metadata": {
        "id": "view-in-github",
        "colab_type": "text"
      },
      "source": [
        "<a href=\"https://colab.research.google.com/github/luvitale/SOA_HPC/blob/main/image_caption_model.ipynb\" target=\"_parent\"><img src=\"https://colab.research.google.com/assets/colab-badge.svg\" alt=\"Open In Colab\"/></a>"
      ]
    },
    {
      "cell_type": "markdown",
      "metadata": {
        "id": "a-yDBWa5eM3i"
      },
      "source": [
        "# Introducción\n",
        "\n",
        "La computación de alto rendimiento (HPC) representa la capacidad de procesar datos y realizar cálculos complejos a velocidades muy altas.\n",
        "\n",
        "Es a través de los datos que se hacen descubrimientos científicos innovadores, se alimentan las innovaciones que cambian los juegos y se mejora la calidad de vida de miles de millones de personas en todo el mundo. HPC es la base de los avances científicos, industriales y sociales.\n",
        "\n",
        "Un subconjunto de la inteligencia artificial (IA), el aprendizaje automático (ML) es el área de la ciencia computacional que se centra en el análisis y la interpretación de patrones y estructuras de datos que hacen posible el aprendizaje, el razonamiento y la toma de decisiones sin interacción humana.\n",
        "\n",
        "El Aprendizaje Automático (AA) consta de tres partes:\n",
        "\n",
        "El algoritmo computacional, situado en el núcleo de la toma de determinaciones.\n",
        "Las variables y las funciones que conforman la decisión.\n",
        "El conocimiento base según el cual se sabe la respuesta que permite aprender al sistema (lo entrena).\n",
        "TensorFlow es una plataforma de código abierto de extremo a extremo para el aprendizaje automático. Cuenta con un ecosistema integral y flexible de herramientas, bibliotecas y recursos de la comunidad que les permite a los investigadores innovar con el aprendizaje automático y, a los desarrolladores, compilar e implementar con facilidad aplicaciones con tecnología de AA.\n",
        "\n",
        "Keras es una API diseñada para seres humanos, no para máquinas. Keras sigue las mejores prácticas para reducir la carga cognitiva: ofrece API consistentes y simples, minimiza la cantidad de acciones del usuario necesarias para casos de uso comunes y proporciona mensajes de error claros y procesables."
      ]
    }
  ]
}