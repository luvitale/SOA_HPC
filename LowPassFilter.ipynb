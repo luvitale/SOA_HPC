{
  "nbformat": 4,
  "nbformat_minor": 0,
  "metadata": {
    "colab": {
      "name": "LowPassFilter.ipynb",
      "provenance": [],
      "toc_visible": true,
      "authorship_tag": "ABX9TyObE4tOlqNkirFhfccAC7rV",
      "include_colab_link": true
    },
    "kernelspec": {
      "name": "python3",
      "display_name": "Python 3"
    },
    "language_info": {
      "name": "python"
    }
  },
  "cells": [
    {
      "cell_type": "markdown",
      "metadata": {
        "id": "view-in-github",
        "colab_type": "text"
      },
      "source": [
        "<a href=\"https://colab.research.google.com/github/luvitale/SOA_HPC/blob/main/LowPassFilter.ipynb\" target=\"_parent\"><img src=\"https://colab.research.google.com/assets/colab-badge.svg\" alt=\"Open In Colab\"/></a>"
      ]
    },
    {
      "cell_type": "markdown",
      "metadata": {
        "id": "vEwBmJRlCp-c"
      },
      "source": [
        "# Introducción\n",
        "\n",
        "## Filtro utilizado en los casos\n",
        "\n",
        "> Para los siguientes casos se utilizará el filtro Low Pass Filter.\n",
        "\n",
        ">Low Pass Filter realiza un filtrado en la imagen, utilizando una matriz máscara, que realizará una conversión de valor en cada uno de sus píxeles, para tener una imagen más *borrosa* pero que eliminará el ruido de la imagen y permitirá ver detalles que antes no eran visibles.\n",
        "\n",
        "> Se utilizara la técnica convolution para obtener la matriz resultado.\n",
        "\n",
        "## Convolution\n",
        "\n",
        "> La técnica consiste en tomar cada pixel de una matriz y calcularle un nuevo valor multiplicandolo por una matriz máscara. El nuevo valor del pixel sera la suma del pixel y sus vecinos multiplicados por el valor de la matriz mascara en esa posicion.\n",
        "\n",
        "> Se utiliza la siguiente formula:\n",
        "\n",
        "> ![Imagen Convolution](https://wikimedia.org/api/rest_v1/media/math/render/svg/0f0005a6520eaab36f9b30520b640663d669d891)\n",
        "\n",
        "> En la imagen la primera matriz corresponde a la de la imagen y la segunda a la matriz máscara.\n",
        "\n",
        "> Para estos casos aplicaremos el Low Pass Filter por medio de esta matriz máscara:\n",
        "\n",
        "```python\n",
        "[\n",
        "  [ 0,  1/8,  0 ],\n",
        "  [1/8, 1/4, 1/8],\n",
        "  [ 0,  1/8,  0 ]\n",
        "]\n",
        "```"
      ]
    }
  ]
}